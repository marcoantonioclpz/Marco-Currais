# Esta célula avalia o desempenho do modelo de Regressão Linear no conjunto de teste.
# Execute esta célula *após* a célula que treina o modelo (aed0c583).

from sklearn.metrics import mean_squared_error, r2_score
import numpy as np # Importar numpy para sqrt

print("\nAvaliando o desempenho do modelo de Regressão Linear no conjunto de teste.")

# Certificar-se de que o modelo treinado e os dados de teste existem
if 'model' in locals() and 'x_teste' in locals() and 'y_teste' in locals():

    if not x_teste.empty and not y_teste.empty:

        # 1. Fazer previsões no conjunto de teste
        y_previsto = model.predict(x_teste)

        # 2. Calcular as métricas de avaliação
        mse = mean_squared_error(y_teste, y_previsto)
        rmse = np.sqrt(mse) # RMSE é a raiz quadrada do MSE
        r2 = r2_score(y_teste, y_previsto)

        # 3. Mostrar os resultados
        print("\n--- Métricas de Avaliação do Modelo ---")
        print(f"Erro Quadrático Médio (MSE): {mse:,.2f}")
        print(f"Raiz do Erro Quadrático Médio (RMSE): {rmse:,.2f}")
        print(f"Coeficiente de Determinação (R-quadrado): {r2:.4f}")
        print("-------------------------------------")

    else:
        print("Os DataFrames de teste (x_teste, y_teste) estão vazios. Certifique-se de que a célula de preparação dos dados foi executada corretamente.")

else:
    print("O modelo treinado ou os DataFrames de teste (x_teste, y_teste) não foram encontrados. Certifique-se de que as células anteriores foram executadas corretamente.")
