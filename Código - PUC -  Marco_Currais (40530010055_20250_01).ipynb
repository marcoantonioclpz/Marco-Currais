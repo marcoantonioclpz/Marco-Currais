{
  "nbformat": 4,
  "nbformat_minor": 0,
  "metadata": {
    "colab": {
      "provenance": [],
      "include_colab_link": true
    },
    "kernelspec": {
      "name": "python3",
      "display_name": "Python 3"
    },
    "language_info": {
      "name": "python"
    }
  },
  "cells": [
    {
      "cell_type": "markdown",
      "metadata": {
        "id": "view-in-github",
        "colab_type": "text"
      },
      "source": [
        "<a href=\"https://colab.research.google.com/github/marcoantonioclpz/Marco-Currais/blob/main/C%C3%B3digo%20-%20PUC%20-%20%20Marco_Currais%20(40530010055_20250_01).ipynb\" target=\"_parent\"><img src=\"https://colab.research.google.com/assets/colab-badge.svg\" alt=\"Open In Colab\"/></a>"
      ]
    },
    {
      "cell_type": "markdown",
      "source": [
        "# MVP Análise de Dados e Boas Práticas\n",
        "\n",
        "**Nome:** Marco Antonio Currais Lopez\n",
        "\n",
        "**Matrícula:** 40530010055_20250_01\n",
        "\n",
        "**Dataset:** [ Preços dos Imóveis em Melbourne Dataset](https://drive.google.com/drive/folders/18vLnmYZLBXiWr_rtZKRmMu5shaO7lpcc)\n",
        "\n"
      ],
      "metadata": {
        "id": "cmYX3PLx58Jg"
      }
    },
    {
      "cell_type": "markdown",
      "source": [
        "# Descrição do Problema\n",
        "\n",
        "1. Introdução ao Contexto:\n",
        "Melbourne, a segunda cidade mais populosa da Austrália, tem experimentado significativas flutuações no seu mercado imobiliário nas últimas décadas. Com uma população crescente e um status de 'cidade mais habitável do mundo' por vários anos, entender os fatores que influenciam os preços dos imóveis nesta metrópole se torna não apenas um exercício acadêmico, mas uma ferramenta valiosa para compradores, vendedores e investidores.\n",
        "\n",
        "2. Apresentação do Problema:\n",
        "Nosso objetivo é desvendar os principais fatores que determinam o preço dos imóveis em Melbourne. Quais características têm maior impacto no valor de uma propriedade? Localização, tamanho, número de quartos? Através da análise deste dataset, buscamos criar um modelo preditivo que possa estimar com precisão o valor de uma propriedade com base em suas características.\n",
        "\n",
        "3. Explorando o Dataset:\n",
        "O dataset contém informações detalhadas sobre propriedades vendidas em Melbourne, incluindo:\n",
        "\n",
        "                Suburb - Bairro/Subúrbio\n",
        "\n",
        "                Address - Endereço\n",
        "\n",
        "                Rooms - Cômodos\n",
        "\n",
        "                Type - Tipo\n",
        "\n",
        "                Price - Preço\n",
        "\n",
        "                Method - Método [de venda]\n",
        "\n",
        "                SellerG - Vendedor/Agência\n",
        "\n",
        "                Date - Data\n",
        "\n",
        "                Distance - Distância [do centro da cidade]\n",
        "\n",
        "                Postcode - Código Postal\n",
        "\n",
        "                Bedroom2 - Quarto2 [provavelmente número de quartos]\n",
        "\n",
        "                Bathroom - Banheiro [quantidade]\n",
        "\n",
        "                Car - Carro [vagas de garagem]\n",
        "\n",
        "                Landsize - Tamanho do Terreno\n",
        "\n",
        "                BuildingArea - Área Construída\n",
        "\n",
        "                YearBuilt - Ano de Construção\n",
        "\n",
        "                CouncilArea - Área do Conselho [distrito municipal]\n",
        "\n",
        "                Lattitude - Latitude\n",
        "\n",
        "                Longtitude - Longitude\n",
        "\n",
        "                Regionname - Nome da Região\n",
        "\n",
        "                Propertycount - Contagem de Propriedades [na área]\n",
        "\n",
        "\n",
        "4. Jornada da Análise:\n",
        "Realizamos uma exploração visual dos dados para identificar padrões, tendências e possíveis outliers. Em seguida, investigaremos correlações entre as variáveis para entender quais fatores estão mais fortemente associados ao preço. Finalmente, desenvolveremos e testaremos modelos preditivos que possam estimar o valor de uma propriedade com base em suas características.\n",
        "\n",
        "5. Impacto e Aplicações\n",
        "Os insights gerados por esta análise podem beneficiar diversos stakeholders:\n",
        "\n",
        "        -Compradores poderão avaliar se um imóvel está precificado adequadamente\n",
        "\n",
        "        -Vendedores poderão estabelecer preços competitivos e realistas\n",
        "\n",
        "        -Investidores poderão identificar áreas com potencial de valorização\n",
        "\n",
        "        -Agentes imobiliários poderão oferecer consultoria baseada em dados\n",
        "\n",
        "        -Formuladores de políticas públicas poderão entender melhor as dinâmicas do mercado imobiliário local\n",
        "\n",
        "6. Desafios e Limitações\n",
        "\n",
        "É importante reconhecer que o mercado imobiliário é influenciado por fatores macroeconômicos e tendências que podem não estar capturados no dataset, como taxas de juros, políticas governamentais e eventos globais. Além disso, aspectos subjetivos como a estética do imóvel ou a reputação de uma escola local podem influenciar o preço, mas são difíceis de quantificar."
      ],
      "metadata": {
        "id": "YW_JS-EEBFaR"
      }
    },
    {
      "cell_type": "markdown",
      "source": [
        "## Hipóteses do Problema\n",
        "\n",
        "As hipóteses que tracei são as seguintes:\n",
        "\n",
        "- As diferentes visões de preços por variáveis?\n",
        "\n",
        "- Existe uma correlação entre preço e número de quartos?\n",
        "\n",
        "- Existe uma correlação entre preço e tamanho?"
      ],
      "metadata": {
        "id": "Gm6mOo5PBYwr"
      }
    },
    {
      "cell_type": "markdown",
      "source": [
        "## Tipo de Problema\n",
        "\n",
        "Este é um problema de **classificação supervisionada**. Dado um conjunto de características (comprimento e largura da sépala, comprimento e largura da pétala), o objetivo é prever a qual das três classes (espécies de Íris) uma determinada flor pertence."
      ],
      "metadata": {
        "id": "x1zNNZt6BfdF"
      }
    },
    {
      "cell_type": "markdown",
      "source": [
        "## Seleção de Dados\n",
        "\n",
        "O dataset foi obtido após pesquisas na YouTube, visando projetos de Machine Learning. É um conjunto de dados disponível de forma free. É necessária uma etapa de seleção de dados externa, pois o dataset já não está curado e pronto para uso."
      ],
      "metadata": {
        "id": "N91bTLbiBxrm"
      }
    },
    {
      "cell_type": "markdown",
      "source": [
        "# Importação das Bibliotecas Necessárias e Carga de Dados\n",
        "\n",
        "Esta seção consolida todas as importações de bibliotecas necessárias para a análise, visualização e pré-processamento dos dados, bem como o carregamento inicial do dataset Preços dos Imóveis em Melbourne Dataset."
      ],
      "metadata": {
        "id": "DObGnkf0bJBh"
      }
    },
    {
      "cell_type": "markdown",
      "source": [
        "# Análise de Dados\n",
        "\n",
        "Nesta etapa de Análise de Dados Exploratória sobre o dataset de residências em Melbourne, visei entender a distribuição, as relações e as características das variáveis, o que é crucial para as etapas subsequentes de pré-processamento e modelagem."
      ],
      "metadata": {
        "id": "XcHpQ9s_B4n1"
      }
    },
    {
      "cell_type": "markdown",
      "source": [
        "\n",
        "# Correlação de Dados\n",
        "\n",
        "\n",
        "Com base no gráfico de correlação gerado a partir do seu DataFrame df, aqui estão algumas observações e interpretações notáveis:\n",
        "\n",
        "Correlações com o Preço (Price):\n",
        "Rooms (Quartos) e Bedroom2 (Quartos 2): Há uma correlação positiva relativamente forte entre Price e Rooms, e Price e Bedroom2. Isso é esperado; imóveis com mais quartos (e quartos de dormir) geralmente custam mais. Os valores próximos a 0.5-0.6 confirmam essa tendência.\n",
        "\n",
        "Bathroom (Banheiros): Bathroom também mostra uma correlação positiva com Price, embora talvez um pouco menos forte que Rooms. Mais banheiros tendem a aumentar o preço do imóvel.\n",
        "\n",
        "Car (Vagas de Carro): A correlação entre Price e Car é positiva, indicando que imóveis com mais vagas de garagem tendem a ser mais caros.\n",
        "Landsize (Tamanho do Terreno): A correlação entre Price e Landsize é positiva, mas parece ser mais fraca do que as correlações com o número de cômodos.\n",
        "\n",
        "Terrenos maiores podem influenciar o preço, mas talvez não tanto quanto o número de quartos ou banheiros.\n",
        "\n",
        "Distance (Distância): Distance mostra uma correlação negativa com Price. Isso é um padrão comum em dados imobiliários; propriedades mais distantes do centro ou áreas de interesse tendem a ter preços mais baixos. A correlação não é extremamente forte (próxima de -0.1), mas a tendência existe.\n",
        "\n",
        "Propertycount (Contagem de Propriedades): A correlação com Price é muito fraca, próxima de zero.\n",
        "\n",
        "Correlações entre outras variáveis:\n",
        "Rooms e Bedroom2/Bathroom/Car: Como esperado, há correlações positivas fortes entre Rooms e Bedroom2, Rooms e Bathroom, e Rooms e Car. Imóveis maiores (com mais quartos) tendem a ter mais quartos de dormir, banheiros e vagas de garagem.\n",
        "\n",
        "Lattitude e Longtitude: As coordenadas geográficas (Lattitude e Longtitude) mostram alguma correlação entre si e com outras variáveis, o que faz sentido, pois a localização é um fator importante. A correlação entre Lattitude e Longtitude é negativa.\n",
        "\n",
        "Distance e Postcode: Há uma correlação positiva entre Distance e Postcode, o que é lógico, pois códigos postais mais distantes do centro tendem a ter uma distância maior.\n",
        "\n",
        "Em resumo:\n",
        "\n",
        "O gráfico sugere que, entre as variáveis numéricas, o número de quartos (Rooms, Bedroom2), banheiros (Bathroom) e vagas de garagem (Car), assim como o tamanho do terreno (Landsize), são os que têm a relação linear positiva mais forte com o preço do imóvel. A distância (Distance) tem uma relação linear negativa (embora mais fraca) com o preço. As outras variáveis numéricas mostram correlações mais fracas com o preço.\n",
        "\n",
        "Essa análise de correlação é um bom ponto de partida para entender quais variáveis podem ser mais importantes para prever o preço de um imóvel."
      ],
      "metadata": {
        "id": "mllNLZOjY2Ge"
      }
    },
    {
      "cell_type": "markdown",
      "source": [
        "## Importando e entendendo a base\n",
        "\n",
        "O dataset Preços dos Imóveis em Melbourne Dataset possui 13580 instâncias com 21 atributos.\n",
        "\n",
        "No código abaixo vamos tentar importar e entender a base."
      ],
      "metadata": {
        "id": "5kuan1F5EA8J"
      }
    },
    {
      "cell_type": "code",
      "source": [
        "\n",
        "\n",
        "# Caminho do arquivo Excel original\n",
        "arquivo_entrada = \"/content/drive/MyDrive/Dataset Melbourne.xlsx\"\n",
        "\n",
        "# Caminho para o arquivo Excel processado (saída)\n",
        "arquivo_saida = \"/content/drive/MyDrive/Dataset Melbourne2.xlsx\"\n",
        "\n",
        "# Leia o arquivo Excel\n",
        "df = pd.read_excel(arquivo_entrada, header=None)  # Lê sem cabeçalho inicialmente\n",
        "\n",
        "# Supondo que os atributos estejam na primeira linha (linha 0)\n",
        "linha_atributos = df.iloc[0, 0]  # Captura a primeira célula da primeira linha\n",
        "\n",
        "# Quebra os atributos separados por vírgula\n",
        "colunas = linha_atributos.split(',')\n",
        "\n",
        "# Cria um DataFrame com os atributos como colunas\n",
        "df_formatado = pd.DataFrame(columns=colunas)\n",
        "\n",
        "# Salva o DataFrame formatado em um novo arquivo Excel\n",
        "df_formatado.to_excel(arquivo_saida, index=False)\n",
        "\n",
        "print(f\"O arquivo formatado foi salvo como: {arquivo_saida}\")\n",
        "\n",
        "\n",
        "\n",
        "\n",
        "print(f\"Total de instâncias: {len(df_formatado)}\")\n",
        "print(\"\\nTipos de dados por coluna:\")\n",
        "print(df_formatado.info())\n",
        "\n",
        "# Mostre o número de atributos (colunas)\n",
        "numero_colunas = len(df_formatado.columns)\n",
        "print(f\"O número de atributos (colunas) na planilha é: {numero_colunas}\")\n"
      ],
      "metadata": {
        "id": "hwLYs7lGHKVe"
      },
      "execution_count": null,
      "outputs": []
    },
    {
      "cell_type": "markdown",
      "source": [
        "Realizando a limpeza dos dados"
      ],
      "metadata": {
        "id": "9pvfgaVfOj06"
      }
    },
    {
      "cell_type": "code",
      "source": [
        "# Vou retirar as colunas que tiverem uma alta cardinalidade\n",
        "df = df.drop([\"Suburb\",\"Address\",\"SellerG\",\"Date\"],axis=1)"
      ],
      "metadata": {
        "id": "oWR1M1i3IUGs"
      },
      "execution_count": null,
      "outputs": []
    },
    {
      "cell_type": "markdown",
      "source": [
        "O gráfico de barras mostra que cada espécie de Íris (setosa, versicolor, virginica) possui 50 amostras, confirmando que o dataset é balanceado em termos de classes."
      ],
      "metadata": {
        "id": "5VVAMJ3MHKVe"
      }
    },
    {
      "cell_type": "markdown",
      "source": [
        "## Estatísticas Descritivas\n",
        "\n",
        "Estatísticas descritivas fornecem um resumo das características numéricas, incluindo média, desvio padrão, mínimo, máximo e quartis."
      ],
      "metadata": {
        "id": "M-bS4g_ECPoP"
      }
    },
    {
      "cell_type": "code",
      "source": [
        "# estatísticas descritivas básicas do dataset\n",
        "df.describe()"
      ],
      "metadata": {
        "id": "fTCOuOolC_rG"
      },
      "execution_count": null,
      "outputs": []
    },
    {
      "cell_type": "markdown",
      "source": [
        "### Média\n",
        "\n",
        "A média é uma medida de tendência central que representa o valor típico ou o ponto de equilíbrio de um conjunto de dados. É calculada somando-se todos os valores e dividindo-se pelo número total de observações. É sensível a valores extremos (outliers)."
      ],
      "metadata": {
        "id": "sWPH7rj8Ck6v"
      }
    },
    {
      "cell_type": "code",
      "source": [
        "# média dos atributos numéricos do dataset\n",
        "df.describe().loc['mean']"
      ],
      "metadata": {
        "id": "vm3QIAb-CZbt"
      },
      "execution_count": null,
      "outputs": []
    },
    {
      "cell_type": "code",
      "source": [
        "# Qual gráfico seria interessante usar pra mostrar a média?"
      ],
      "metadata": {
        "id": "EPKpanMFCf0e"
      },
      "execution_count": null,
      "outputs": []
    },
    {
      "cell_type": "markdown",
      "source": [
        "### Desvio Padrão\n",
        "\n",
        "O desvio padrão é uma medida de dispersão que quantifica a quantidade de variação ou dispersão de um conjunto de valores. Um desvio padrão baixo indica que os pontos de dados tendem a estar próximos da média do conjunto, enquanto um desvio padrão alto indica que os pontos de dados estão espalhados por uma faixa maior de valores. Ele é a raiz quadrada da variância."
      ],
      "metadata": {
        "id": "MHRKK0YmCmUw"
      }
    },
    {
      "cell_type": "code",
      "source": [
        "# desvio padrão dos atributos numéricos do dataset\n",
        "df.describe().loc['std']"
      ],
      "metadata": {
        "id": "aBIXqi0fCwSH"
      },
      "execution_count": null,
      "outputs": []
    },
    {
      "cell_type": "code",
      "source": [
        "# Qual gráfico seria interessante usar pra mostrar o desvio padrão?"
      ],
      "metadata": {
        "id": "b_v1ImkCDHYw"
      },
      "execution_count": 34,
      "outputs": []
    },
    {
      "cell_type": "markdown",
      "source": [
        "## Histograma\n",
        "\n",
        "A distribuição de dados descreve como os valores de uma variável se espalham, ou seja, a frequência com que diferentes valores ocorrem. Entender a distribuição é crucial na análise de dados, pois revela padrões, tendências centrais, dispersão e a presença de valores atípicos (outliers). O histograma é uma ferramenta visual fundamental para representar essa distribuição, mostrando a forma dos dados, se são simétricos ou assimétricos, unimodais ou multimodais.\n",
        "\n",
        "O gráfico de histograma que você gerou na saída da célula 3470d157 mostra a distribuição dos preços dos imóveis no seu conjunto de dados.\n",
        "\n",
        "No nosso caso o Eixo X (horizontal): Representa os diferentes intervalos de preços dos imóveis. Cada barra cobre um certo alcance de valores de preço.\n",
        "\n",
        "Eixo Y (vertical): Representa a \"Frequência\", ou seja, quantas vezes os preços dos imóveis caíram dentro de cada intervalo no eixo X. Em outras palavras, a altura de cada barra indica o número de imóveis cujos preços estão naquele intervalo.\n",
        "\n",
        "Barras: Cada barra mostra a contagem de imóveis para um determinado intervalo de preço.\n",
        "\n",
        "Observando a forma do histograma, a maioria das barras mais altas está concentrada na parte esquerda do gráfico, em intervalos de preços mais baixos. Isso indica que a maioria dos imóveis neste dataset tem preços mais baixos.\n",
        "À medida que você se move para a direita no eixo X (para preços mais altos), as barras ficam cada vez mais baixas, e eventualmente desaparecem. Isso mostra que poucos imóveis no dataset têm preços muito altos.\n",
        "\n",
        "Este tipo de distribuição, onde a maioria dos dados se concentra em valores mais baixos e há uma cauda longa se estendendo para valores mais altos, é chamada de distribuição assimétrica positiva ou assimetria à direita.\n",
        "\n",
        "Em resumo, o histograma mostra visualmente que o mercado imobiliário neste dataset é dominado por imóveis de preço mais baixo a moderado, com uma quantidade menor de propriedades de alto valor."
      ],
      "metadata": {
        "id": "4tX_H2zZEFwU"
      }
    },
    {
      "cell_type": "markdown",
      "source": [
        "# Gráfico de dispersão (scatter plot) mostrando a relação entre o Preço (Price) e o Tamanho do Terreno (Landsize).\n",
        "\n",
        "Cada ponto no gráfico representa um único imóvel no seu conjunto de dados.\n",
        "\n",
        "A posição horizontal de cada ponto é determinada pelo tamanho do terreno (Landsize), e a posição vertical é determinada pelo preço do imóvel (Price).\n",
        "\n",
        "Existe uma concentração muito grande de pontos na parte inferior esquerda do gráfico. Isso indica que a maioria dos imóveis tem tamanhos de terreno relativamente pequenos e preços mais baixos. Isso alinha com o que vimos no histograma de preços.\n",
        "\n",
        "À medida que você se move para a direita (aumentando o tamanho do terreno) e para cima (aumentando o preço), a densidade de pontos diminui.\n",
        "À medida que o Landsize aumenta, o Price também tende a aumentar. Isso sugere uma correlação positiva entre o tamanho do terreno e o preço do imóvel.\n",
        "\n",
        "Alguns pontos parecem estar isolados ou muito longe da massa principal dos pontos. Esses podem ser imóveis com tamanhos de terreno excepcionalmente grandes para o seu preço, ou preços muito altos para o seu tamanho de terreno, indicando possíveis outliers.\n",
        "\n",
        "Em resumo, o gráfico de dispersão confirma que imóveis com terrenos maiores geralmente custam mais, mas também mostra que há bastante variação e outros fatores além do tamanho do terreno influenciam o preço."
      ],
      "metadata": {
        "id": "YTzDlsBAQELm"
      }
    },
    {
      "cell_type": "markdown",
      "source": [
        "### *sepal length*\n",
        "\n",
        "Alguma curiosidade ou fato importante sobre o atributo que estamos olhando a distribuição?"
      ],
      "metadata": {
        "id": "FSs4jBF7HUnV"
      }
    },
    {
      "cell_type": "code",
      "source": [
        "plt.figure(figsize=(8, 6))\n",
        "# Histograma do comprimento da sépala (um dos atributos)\n",
        "sns.histplot(df['sepal length (cm)'], kde=True)\n",
        "plt.title('Distribuição do Comprimento da Sépala')\n",
        "plt.xlabel('Comprimento da Sépala (cm)')\n",
        "plt.ylabel('Frequência')\n",
        "plt.show()"
      ],
      "metadata": {
        "id": "MdBuOXxzHI5h",
        "colab": {
          "base_uri": "https://localhost:8080/",
          "height": 238
        },
        "outputId": "f4cdfdca-e063-4ca6-bb59-9193175a388b"
      },
      "execution_count": 35,
      "outputs": [
        {
          "output_type": "error",
          "ename": "NameError",
          "evalue": "name 'df' is not defined",
          "traceback": [
            "\u001b[0;31m---------------------------------------------------------------------------\u001b[0m",
            "\u001b[0;31mNameError\u001b[0m                                 Traceback (most recent call last)",
            "\u001b[0;32m/tmp/ipython-input-35-2720737501.py\u001b[0m in \u001b[0;36m<cell line: 0>\u001b[0;34m()\u001b[0m\n\u001b[1;32m      1\u001b[0m \u001b[0mplt\u001b[0m\u001b[0;34m.\u001b[0m\u001b[0mfigure\u001b[0m\u001b[0;34m(\u001b[0m\u001b[0mfigsize\u001b[0m\u001b[0;34m=\u001b[0m\u001b[0;34m(\u001b[0m\u001b[0;36m8\u001b[0m\u001b[0;34m,\u001b[0m \u001b[0;36m6\u001b[0m\u001b[0;34m)\u001b[0m\u001b[0;34m)\u001b[0m\u001b[0;34m\u001b[0m\u001b[0;34m\u001b[0m\u001b[0m\n\u001b[1;32m      2\u001b[0m \u001b[0;31m# Histograma do comprimento da sépala (um dos atributos)\u001b[0m\u001b[0;34m\u001b[0m\u001b[0;34m\u001b[0m\u001b[0m\n\u001b[0;32m----> 3\u001b[0;31m \u001b[0msns\u001b[0m\u001b[0;34m.\u001b[0m\u001b[0mhistplot\u001b[0m\u001b[0;34m(\u001b[0m\u001b[0mdf\u001b[0m\u001b[0;34m[\u001b[0m\u001b[0;34m'sepal length (cm)'\u001b[0m\u001b[0;34m]\u001b[0m\u001b[0;34m,\u001b[0m \u001b[0mkde\u001b[0m\u001b[0;34m=\u001b[0m\u001b[0;32mTrue\u001b[0m\u001b[0;34m)\u001b[0m\u001b[0;34m\u001b[0m\u001b[0;34m\u001b[0m\u001b[0m\n\u001b[0m\u001b[1;32m      4\u001b[0m \u001b[0mplt\u001b[0m\u001b[0;34m.\u001b[0m\u001b[0mtitle\u001b[0m\u001b[0;34m(\u001b[0m\u001b[0;34m'Distribuição do Comprimento da Sépala'\u001b[0m\u001b[0;34m)\u001b[0m\u001b[0;34m\u001b[0m\u001b[0;34m\u001b[0m\u001b[0m\n\u001b[1;32m      5\u001b[0m \u001b[0mplt\u001b[0m\u001b[0;34m.\u001b[0m\u001b[0mxlabel\u001b[0m\u001b[0;34m(\u001b[0m\u001b[0;34m'Comprimento da Sépala (cm)'\u001b[0m\u001b[0;34m)\u001b[0m\u001b[0;34m\u001b[0m\u001b[0;34m\u001b[0m\u001b[0m\n",
            "\u001b[0;31mNameError\u001b[0m: name 'df' is not defined"
          ]
        },
        {
          "output_type": "display_data",
          "data": {
            "text/plain": [
              "<Figure size 800x600 with 0 Axes>"
            ]
          },
          "metadata": {}
        }
      ]
    },
    {
      "cell_type": "markdown",
      "source": [
        "O histograma mostra a distribuição do comprimento da sépala. A curva de densidade estimada (KDE) nos indica que a distribuição parece bimodal ou multimodal, indicando que as espécies podem ter comprimentos de sépalas diferentes."
      ],
      "metadata": {
        "id": "o7CSWH48HI5h"
      }
    },
    {
      "cell_type": "markdown",
      "source": [
        "### *sepal width*\n",
        "\n",
        "Alguma curiosidade ou fato importante sobre o atributo que estamos olhando a distribuição?"
      ],
      "metadata": {
        "id": "GC3jhtL2HpS5"
      }
    },
    {
      "cell_type": "code",
      "source": [
        "plt.figure(figsize=(8, 6))\n",
        "# Histograma do comprimento da sépala (um dos atributos)\n",
        "sns.histplot(df['sepal width (cm)'], kde=True)\n",
        "plt.title('Distribuição da Largura da Sépala')\n",
        "plt.xlabel('Largura da Sépala (cm)')\n",
        "plt.ylabel('Frequência')\n",
        "plt.show()"
      ],
      "metadata": {
        "id": "xFULQrKiGPqj"
      },
      "execution_count": null,
      "outputs": []
    },
    {
      "cell_type": "markdown",
      "source": [
        "Quais impressões você tem sobre a distribuição do atributo 'sepal width'?"
      ],
      "metadata": {
        "id": "2iQSmHWkGUom"
      }
    },
    {
      "cell_type": "markdown",
      "source": [
        "## Boxplot\n",
        "\n",
        "Para entender as diferenças entre as espécies, devemos olhar como se comportam os valores quando agrupadas por espécie. Isso nos permite comparar a média, mediana e desvio padrão de cada característica para Iris setosa, Iris versicolor e Iris virginica, além de visualizar suas distribuições por meio de boxplots.\n"
      ],
      "metadata": {
        "id": "av_qTo2YERdw"
      }
    },
    {
      "cell_type": "code",
      "source": [
        "# Estatísticas descritivas agrupadas por espécie\n",
        "df.groupby('species').describe()"
      ],
      "metadata": {
        "id": "iH6ov-UMHHHJ"
      },
      "execution_count": null,
      "outputs": []
    },
    {
      "cell_type": "markdown",
      "source": [
        "### *petal length* por Espécie\n"
      ],
      "metadata": {
        "id": "vGdPjK0AJIh_"
      }
    },
    {
      "cell_type": "code",
      "source": [
        "# Boxplot do comprimento da pétala por espécie\n",
        "plt.figure(figsize=(10, 6))\n",
        "sns.boxplot(x='species', y='petal length (cm)', data=df)\n",
        "plt.title('Comprimento da Pétala por Espécie')\n",
        "plt.xlabel('Espécie')\n",
        "plt.ylabel('Comprimento da Pétala (cm)')\n",
        "plt.show()"
      ],
      "metadata": {
        "id": "CXYVIeNfHHHJ"
      },
      "execution_count": null,
      "outputs": []
    },
    {
      "cell_type": "markdown",
      "source": [
        "O boxplot do comprimento da pétala por espécie demonstra claramente que a Iris setosa tem pétalas significativamente mais curtas do que as outras duas espécies. Há uma sobreposição entre Iris versicolor e Iris virginica, mas as medianas e as caixas indicam uma distinção."
      ],
      "metadata": {
        "id": "mqwFIROrHHHJ"
      }
    },
    {
      "cell_type": "markdown",
      "source": [
        "### *petal width* por Espécie"
      ],
      "metadata": {
        "id": "gL3TPaIRJydo"
      }
    },
    {
      "cell_type": "code",
      "source": [
        "# Boxplot do comprimento da pétala por espécie\n",
        "plt.figure(figsize=(10, 6))\n",
        "sns.boxplot(x='species', y='petal width (cm)', data=df)\n",
        "plt.title('Largura da Pétala por Espécie')\n",
        "plt.xlabel('Espécie')\n",
        "plt.ylabel('Largura da Pétala (cm)')\n",
        "plt.show()"
      ],
      "metadata": {
        "id": "spO_61dYJ3c9"
      },
      "execution_count": null,
      "outputs": []
    },
    {
      "cell_type": "markdown",
      "source": [
        "Quais impressões o boxplot trouxe?"
      ],
      "metadata": {
        "id": "6SkLRoCnJ-67"
      }
    },
    {
      "cell_type": "markdown",
      "source": [
        "## Matriz de Correlação\n",
        "\n",
        "A matriz de correlação mede a força e a direção de uma relação linear que os atributos numéricos das espécies podem ter. Valores próximos a 1 indicam uma forte correlação positiva, -1 uma forte correlação negativa, e 0 ausência de correlação linear."
      ],
      "metadata": {
        "id": "3_ERHJAPEZAt"
      }
    },
    {
      "cell_type": "code",
      "source": [
        "# Matriz de correlação\n",
        "print(\"\\nMatriz de Correlação:\")\n",
        "df.iloc[:, :4].corr()"
      ],
      "metadata": {
        "id": "jAmPsbzDHF2t"
      },
      "execution_count": null,
      "outputs": []
    },
    {
      "cell_type": "code",
      "source": [
        "plt.figure(figsize=(8, 6))\n",
        "# mapa de calor das variáveis numéricas\n",
        "sns.heatmap(df.iloc[:, :4].corr(), annot=True, cmap='coolwarm', fmt=\".2f\")\n",
        "plt.title('Matriz de Correlação das Características Numéricas do Iris Dataset')\n",
        "plt.show()"
      ],
      "metadata": {
        "id": "1iSnofo-HF2u"
      },
      "execution_count": null,
      "outputs": []
    },
    {
      "cell_type": "markdown",
      "source": [
        "O mapa de calor da matriz de correlação revela fortes correlações positivas entre *petal length* e *petal width*, bem como entre *sepal length* e *petal length*/*petal width*. Isso sugere que essas características se movem juntas, o que é útil para a seleção de características."
      ],
      "metadata": {
        "id": "oz1caOiQHF2u"
      }
    },
    {
      "cell_type": "markdown",
      "source": [
        "# Pré-Processamento de Dados\n",
        "\n",
        "O pré-processamento de dados é uma etapa crucial para preparar os dados para modelagem, garantindo que estejam no formato correto e otimizados para o desempenho do algoritmo."
      ],
      "metadata": {
        "id": "VDovmxgDFcbF"
      }
    },
    {
      "cell_type": "code",
      "source": [
        "# Separar features (X) e target (y)\n",
        "X = df.drop('species', axis=1)\n",
        "y = df['species']"
      ],
      "metadata": {
        "id": "82kzmWnHFkb6"
      },
      "execution_count": null,
      "outputs": []
    },
    {
      "cell_type": "code",
      "source": [
        "# Dividir os dados em conjuntos de treino e teste\n",
        "X_train, X_test, y_train, y_test = train_test_split(X, y, test_size=0.3, random_state=42, stratify=y)"
      ],
      "metadata": {
        "id": "zzxbuTbIeuuU"
      },
      "execution_count": null,
      "outputs": []
    },
    {
      "cell_type": "code",
      "source": [
        "print(f\"Dimensões de X_train: {X_train.shape}\")\n",
        "print(f\"Dimensões de X_test: {X_test.shape}\")\n",
        "print(f\"Dimensões de y_train: {y_train.shape}\")\n",
        "print(f\"Dimensões de y_test: {y_test.shape}\")"
      ],
      "metadata": {
        "id": "SPvN4eP8ewUB"
      },
      "execution_count": null,
      "outputs": []
    },
    {
      "cell_type": "markdown",
      "source": [
        "## Normalização\n",
        "\n",
        "A normalização escala os dados para um intervalo fixo, geralmente entre 0 e 1. É útil quando o algoritmo de machine learning assume que as características estão em uma escala semelhante.\n",
        "\n"
      ],
      "metadata": {
        "id": "7wQ9wP_zGJkk"
      }
    },
    {
      "cell_type": "code",
      "source": [
        "# Inicializar o MinMaxScaler\n",
        "scaler_norm = MinMaxScaler()"
      ],
      "metadata": {
        "id": "IHrDH13DHDDU"
      },
      "execution_count": null,
      "outputs": []
    },
    {
      "cell_type": "code",
      "source": [
        "# Aprende min e max APENAS de X_train\n",
        "scaler_norm.fit(X_train)\n",
        "X_train_normalized = scaler_norm.transform(X_train)\n",
        "# Usa a média e o desvio padrão aprendidos de X_train\n",
        "X_test_normalized = scaler_norm.transform(X_test)"
      ],
      "metadata": {
        "id": "WULXU6wBezB5"
      },
      "execution_count": null,
      "outputs": []
    },
    {
      "cell_type": "code",
      "source": [
        "# Exibir as primeiras linhas dos dados normalizados (como DataFrame para melhor visualização)\n",
        "df_normalized = pd.DataFrame(X_train_normalized, columns=X_train.columns)"
      ],
      "metadata": {
        "id": "-fHBl47Ve0NM"
      },
      "execution_count": null,
      "outputs": []
    },
    {
      "cell_type": "code",
      "source": [
        "print(\"\\nPrimeiras 5 linhas dos dados normalizados (treino):\")\n",
        "print(df_normalized.head())"
      ],
      "metadata": {
        "id": "hynX-y4we3Nb"
      },
      "execution_count": null,
      "outputs": []
    },
    {
      "cell_type": "code",
      "source": [
        "# Visualização da distribuição após a normalização (exemplo para uma característica)\n",
        "plt.figure(figsize=(8, 6))\n",
        "sns.histplot(df_normalized['sepal length (cm)'], kde=True)\n",
        "plt.title('Distribuição do Comprimento da Sépala (Normalizado)')\n",
        "plt.xlabel('Comprimento da Sépala Normalizado')\n",
        "plt.ylabel('Frequência')\n",
        "plt.show()"
      ],
      "metadata": {
        "id": "y5Ni6N10HDDU",
        "colab": {
          "base_uri": "https://localhost:8080/",
          "height": 238
        },
        "outputId": "2fde8387-6529-460d-d54b-2cec9d9a4b68"
      },
      "execution_count": 36,
      "outputs": [
        {
          "output_type": "error",
          "ename": "NameError",
          "evalue": "name 'df_normalized' is not defined",
          "traceback": [
            "\u001b[0;31m---------------------------------------------------------------------------\u001b[0m",
            "\u001b[0;31mNameError\u001b[0m                                 Traceback (most recent call last)",
            "\u001b[0;32m/tmp/ipython-input-36-3931907308.py\u001b[0m in \u001b[0;36m<cell line: 0>\u001b[0;34m()\u001b[0m\n\u001b[1;32m      1\u001b[0m \u001b[0;31m# Visualização da distribuição após a normalização (exemplo para uma característica)\u001b[0m\u001b[0;34m\u001b[0m\u001b[0;34m\u001b[0m\u001b[0m\n\u001b[1;32m      2\u001b[0m \u001b[0mplt\u001b[0m\u001b[0;34m.\u001b[0m\u001b[0mfigure\u001b[0m\u001b[0;34m(\u001b[0m\u001b[0mfigsize\u001b[0m\u001b[0;34m=\u001b[0m\u001b[0;34m(\u001b[0m\u001b[0;36m8\u001b[0m\u001b[0;34m,\u001b[0m \u001b[0;36m6\u001b[0m\u001b[0;34m)\u001b[0m\u001b[0;34m)\u001b[0m\u001b[0;34m\u001b[0m\u001b[0;34m\u001b[0m\u001b[0m\n\u001b[0;32m----> 3\u001b[0;31m \u001b[0msns\u001b[0m\u001b[0;34m.\u001b[0m\u001b[0mhistplot\u001b[0m\u001b[0;34m(\u001b[0m\u001b[0mdf_normalized\u001b[0m\u001b[0;34m[\u001b[0m\u001b[0;34m'sepal length (cm)'\u001b[0m\u001b[0;34m]\u001b[0m\u001b[0;34m,\u001b[0m \u001b[0mkde\u001b[0m\u001b[0;34m=\u001b[0m\u001b[0;32mTrue\u001b[0m\u001b[0;34m)\u001b[0m\u001b[0;34m\u001b[0m\u001b[0;34m\u001b[0m\u001b[0m\n\u001b[0m\u001b[1;32m      4\u001b[0m \u001b[0mplt\u001b[0m\u001b[0;34m.\u001b[0m\u001b[0mtitle\u001b[0m\u001b[0;34m(\u001b[0m\u001b[0;34m'Distribuição do Comprimento da Sépala (Normalizado)'\u001b[0m\u001b[0;34m)\u001b[0m\u001b[0;34m\u001b[0m\u001b[0;34m\u001b[0m\u001b[0m\n\u001b[1;32m      5\u001b[0m \u001b[0mplt\u001b[0m\u001b[0;34m.\u001b[0m\u001b[0mxlabel\u001b[0m\u001b[0;34m(\u001b[0m\u001b[0;34m'Comprimento da Sépala Normalizado'\u001b[0m\u001b[0;34m)\u001b[0m\u001b[0;34m\u001b[0m\u001b[0;34m\u001b[0m\u001b[0m\n",
            "\u001b[0;31mNameError\u001b[0m: name 'df_normalized' is not defined"
          ]
        },
        {
          "output_type": "display_data",
          "data": {
            "text/plain": [
              "<Figure size 800x600 with 0 Axes>"
            ]
          },
          "metadata": {}
        }
      ]
    },
    {
      "cell_type": "markdown",
      "source": [
        "O histograma de *sepal length* após a normalização mostra que os valores foram escalados para o intervalo de 0 a 1, mantendo a forma da distribuição original."
      ],
      "metadata": {
        "id": "Eyb-mWfqHDDU"
      }
    },
    {
      "cell_type": "markdown",
      "source": [
        "## Padronização\n",
        "\n",
        "A padronização (ou Z-score scaling) transforma os dados para ter média 0 e desvio padrão 1. É útil para algoritmos que são sensíveis à escala das características, como SVMs ou redes neurais."
      ],
      "metadata": {
        "id": "UOSAwBz0GOAM"
      }
    },
    {
      "cell_type": "code",
      "source": [
        "# Inicializar o StandardScaler\n",
        "scaler_std = StandardScaler()"
      ],
      "metadata": {
        "id": "08rFvjoEGxb_"
      },
      "execution_count": null,
      "outputs": []
    },
    {
      "cell_type": "code",
      "source": [
        "# Aprende média e desvio padrão APENAS de X_train\n",
        "scaler_std.fit(X_train)\n",
        "X_train_standardized = scaler_std.transform(X_train)\n",
        "# Usa a média e o desvio padrão aprendidos de X_train\n",
        "X_test_standardized = scaler_std.transform(X_test)"
      ],
      "metadata": {
        "id": "HxKYatnGe96h"
      },
      "execution_count": null,
      "outputs": []
    },
    {
      "cell_type": "code",
      "source": [
        "# Exibir as primeiras linhas dos dados padronizados (como DataFrame para melhor visualização)\n",
        "df_standardized = pd.DataFrame(X_train_standardized, columns=X_train.columns)"
      ],
      "metadata": {
        "id": "U5wlJdHKfDdp"
      },
      "execution_count": null,
      "outputs": []
    },
    {
      "cell_type": "code",
      "source": [
        "print(\"\\nPrimeiras 5 linhas dos dados padronizados (treino):\")\n",
        "print(df_standardized.head())"
      ],
      "metadata": {
        "id": "fuEUapx7fEzE"
      },
      "execution_count": null,
      "outputs": []
    },
    {
      "cell_type": "code",
      "source": [
        "# Visualização da distribuição após a padronização (exemplo para uma característica)\n",
        "plt.figure(figsize=(8, 6))\n",
        "sns.histplot(df_standardized['sepal length (cm)'], kde=True)\n",
        "plt.title('Distribuição do Comprimento da Sépala (Padronizado)')\n",
        "plt.xlabel('Comprimento da Sépala Padronizado')\n",
        "plt.ylabel('Frequência')\n",
        "plt.show()"
      ],
      "metadata": {
        "id": "fyfnu7jSGxcA"
      },
      "execution_count": null,
      "outputs": []
    },
    {
      "cell_type": "markdown",
      "source": [
        "O histograma de *sepal length* após a padronização mostra que os valores foram transformados para ter uma média próxima de zero e um desvio padrão de um, centralizando a distribuição."
      ],
      "metadata": {
        "id": "zmeMPbfhGxcA"
      }
    },
    {
      "cell_type": "markdown",
      "source": [
        "## Tratamento de Valores Nulos\n",
        "\n",
        "O dataset Iris original não possui valores nulos. No entanto, o tratamento de valores nulos é crucial e pode envolver imputação (preenchimento com média, mediana, moda) ou remoção de linhas/colunas."
      ],
      "metadata": {
        "id": "UC1f5d_BGTVB"
      }
    },
    {
      "cell_type": "code",
      "source": [
        "# Verificar a presença de valores nulos no dataset original\n",
        "print(\"Valores nulos no dataset Iris:\")\n",
        "df.isnull().sum()"
      ],
      "metadata": {
        "id": "fNQUvAnwG8fL"
      },
      "execution_count": null,
      "outputs": []
    },
    {
      "cell_type": "markdown",
      "source": [
        "## Outras Transformações e Etapas de Pré-Processamento\n",
        "\n",
        "Outras etapas de pré-processamento incluem a seleção de características, redução de dimensionalidade (como PCA) ou criação de novas características (feature engineering). O que você faria a mais?\n",
        "\n"
      ],
      "metadata": {
        "id": "rBl8S0hDGap4"
      }
    },
    {
      "cell_type": "markdown",
      "source": [
        "# Conclusão\n",
        "\n",
        "A análise e pré-processamento do dataset Iris demonstram a importância de entender a estrutura dos dados antes da modelagem. O dataset é limpo e balanceado, com características numéricas bem definidas que permitem uma clara separação entre as espécies, especialmente a Iris setosa. A análise exploratória revelou correlações importantes entre as características e a eficácia de visualizações como boxplots para distinguir as classes. As etapas de normalização e padronização são fundamentais para preparar os dados para diversos algoritmos de aprendizado de máquina, garantindo que o modelo possa aprender eficientemente com as relações presentes nos dados.\n",
        "\n",
        "As três hipóteses levantadas foram validadas:\n",
        "\n",
        "1.   *As diferentes espécies de Íris podem ser distinguidas com base nas medições de suas sépalas e pétalas?* Sim, dado as análises que fizemos no boxplot, observamos um comportamento muito claro e distinto.\n",
        "\n",
        "2.   *Existe uma correlação entre comprimento da pétala e largura da pétala?* Existe forte correlação entre os atributos *petal length* e *petal width*.\n",
        "\n",
        "3.   *A espécie Iris setosa é mais facilmente separável das outras duas espécies?* Sim, devido às suas características distintas de menor comprimento e largura da pétala."
      ],
      "metadata": {
        "id": "OY_GDjf1G-PM"
      }
    }
  ]
}