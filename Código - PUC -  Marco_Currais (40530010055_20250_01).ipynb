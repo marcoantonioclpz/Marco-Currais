# Célula 1: Baixar dados do GitHub, Pré-processamento Inicial e Mapa de Calor da Correlação

import pandas as pd
import requests
from io import BytesIO
import matplotlib.pyplot as plt
import seaborn as sns
#from pandas_profiling import ProfileReport
pd.options.display.float_format = '{:,.2f}'.format
%matplotlib inline

print("Bibliotecas essenciais importadas para a Etapa 1.")

# URL direta para o arquivo raw no GitHub
github_excel_url = "https://raw.githubusercontent.com/marcoantonioclpz/Marco-Currais/main/Dataset Melbourne.xlsx"

try:
    print(f"Baixando arquivo do GitHub: {github_excel_url}")
    # Fazer a requisição para obter o conteúdo do arquivo
    response = requests.get(github_excel_url)
    response.raise_for_status() # Levanta um erro para respostas HTTP ruins (4xx ou 5xx)

    # Ler o arquivo Excel diretamente do conteúdo binário da resposta
    # Usamos BytesIO porque pd.read_excel pode ler de objetos tipo arquivo
    excel_data = pd.read_excel(BytesIO(response.content), sheet_name=0, header=None)

    print("Arquivo Excel lido do GitHub.")

    # Supondo que todos os dados relevantes estão na primeira coluna (índice 0)
    # e que a primeira linha contém os nomes das colunas
    if not excel_data.empty and excel_data.shape[1] > 0:
        data_column = excel_data.iloc[:, 0]

        if not data_column.empty:
            # Separar a string em colunas usando a vírgula como delimitador
            # Expand=True cria novas colunas para cada elemento separado
            # A primeira linha (índice 0) contém os cabeçalhos
            header_row = data_column.iloc[0].split(',')
            data_rows = data_column.iloc[1:]

            # Criar um novo DataFrame com as colunas separadas
            df = data_rows.str.split(',', expand=True)

            # Atribuir os nomes das colunas usando a primeira linha
            df.columns = header_row

            print("Colunas separadas com sucesso!")

            # Agora o DataFrame 'df' tem as colunas separadas.

            ############### Pré Processamento#################################################

            # Converter colunas numéricas para o tipo numérico
            numeric_cols = ['Rooms', 'Price', 'Distance', 'Postcode', 'Bedroom2', 'Bathroom', 'Car', 'Landsize', 'BuildingArea', 'YearBuilt', 'Lattitude', 'Longtitude', 'Propertycount']
            for col in numeric_cols:
                if col in df.columns:
                    df[col] = pd.to_numeric(df[col], errors='coerce')
            print("\nColunas numéricas convertidas.")


            # Colunas para remover (incluindo BuildingArea e YearBuilt que estavam no código original)
            columns_to_drop = ["Suburb","Address","SellerG","Date", "BuildingArea","YearBuilt"]

            # Verificar quais colunas existem antes de tentar remover para evitar KeyError
            existing_columns_to_drop = [col for col in columns_to_drop if col in df.columns]

            if existing_columns_to_drop:
                df = df.drop(existing_columns_to_drop, axis=1)
                print(f"\nColunas {existing_columns_to_drop} removidas.")
            else:
                print("\nNenhuma das colunas especificadas para remoção foi encontrada.")

            print("\nColunas finais no DataFrame df:")
            print(df.columns)
            print(f"Número de colunas finais: {len(df.columns)}")


           ####################################################################################

           ########### Análise dos dados #####################################################
           # Mostrando a correlação entre as variáveis

            # --- Verificações antes do cálculo da correlação ---
            print("\nVerificando o DataFrame antes do cálculo da correlação:")
            print(f"Shape do DataFrame: {df.shape}")
            print("Tipos de dados das colunas após conversão:")
            print(df.dtypes)
            # --- Fim das verificações ---

            # Calcular e plotar a correlação
            plt.figure(figsize=(13,8))
            sns.heatmap(df.corr(numeric_only=True),annot=True,cmap="YlGnBu")
            plt.title('Mapa de Calor da Correlação (excluindo colunas removidas)')
            plt.show()

        else:
             print("A coluna de dados lida do Excel está vazia.")

    else:
        print("O arquivo Excel lido está vazio ou não tem colunas.")


except requests.exceptions.RequestException as e:
    print(f"Erro ao baixar o arquivo do GitHub: {e}")
except Exception as e:
        print(f"Ocorreu um erro ao processar o arquivo: {e}")

# O DataFrame 'df' está pronto para as próximas etapas se o try block for bem sucedido.


# Célula 2: Análise Descritiva Detalhada e Plots Adicionais

# Esta célula contém a Análise Descritiva dos dados e Plots
# Execute esta célula *após* executar a Célula 1 (acima)
# que carrega e pré-processa o DataFrame 'df'.

print("\nIniciando Análise Descritiva e Plots (Etapa 2).")

# Certificar-se de que o DataFrame df existe e não está vazio antes de prosseguir
if 'df' in locals() and df is not None and not df.empty:

    # Calcular a média, desvio padrão, mínimo e máximo 
    if 'Price' in df.columns:
        # Garantir que Price é numérico e remover nulos para cálculo de estatísticas
        df['Price'] = pd.to_numeric(df['Price'], errors='coerce')
        df_price_cleaned = df.dropna(subset=['Price']).copy() # Criar uma cópia para evitar SettingWithCopyWarning

        if not df_price_cleaned.empty: # Verifica se ainda há dados numéricos válidos após dropna
            media_preco = df_price_cleaned['Price'].mean()
            desvio_padrao = df_price_cleaned['Price'].std()
            minimo = df_price_cleaned['Price'].min()
            maximo = df_price_cleaned['Price'].max()

            # Exibir os dados na saída
            print("\nAnálise Descritiva do Preço:")
            print(f"A média do preço dos imóveis é: {media_preco:,.2f}")
            print(f"O desvio padrão do preço dos imóveis é: {desvio_padrao:,.2f}")
            print(f"O mínimo de preço dos imóveis é: {minimo:,.2f}")
            print(f"O máximo de preço dos imóveis é: {maximo:,.2f}")

            # Extrair quartis específicos:
            q1 = df_price_cleaned['Price'].quantile(0.25)
            mediana = df_price_cleaned['Price'].quantile(0.50) # Mediana é o 2º quartil
            q3 = df_price_cleaned['Price'].quantile(0.75)

            print(f"\nPrimeiro Quartil (Q1): {q1:,.2f}")
            print(f"Mediana (Q2 - 50º percentil): {mediana:,.2f}")
            print(f"Terceiro Quartil (Q3): {q3:,.2f}")

            # Histograma do preços dos imóveis (um dos atributos)
            plt.figure(figsize=(8, 6))
            sns.histplot(df_price_cleaned['Price'], kde=True) # Plotar apenas valores não nulos
            plt.title('Distribuição do Preços dos Imóveis em Melbourne')
            plt.xlabel('Preço')
            plt.ylabel('Frequência')
            plt.show()

        else:
            print("Não há dados numéricos válidos na coluna 'Price' para análise descritiva após tratamento de nulos.")


        # Gráfico de Dispersão para ver a relação entre Preço e Tamanho do Terreno
        if 'Landsize' in df.columns and 'Price' in df.columns:
             # Converter 'Landsize' para numérico e tratar nulos antes de plotar
             df['Landsize'] = pd.to_numeric(df['Landsize'], errors='coerce')
             # Criar um DataFrame temporário sem nulos para plotagem para evitar erros no scatterplot
             plot_df = df.dropna(subset=['Landsize', 'Price']).copy()

             if not plot_df.empty:
                 print("\nGerando Gráfico de Dispersão (Preço vs Landsize).")
                 plt.figure(figsize=(10, 6))
                 sns.scatterplot(x='Landsize', y='Price', data=plot_df, alpha=0.6) # Usando alpha para ver a densidade dos pontos
                 plt.title('Relação entre Preço e Tamanho do Terreno')
                 plt.xlabel('Tamanho do Terreno (Landsize)')
                 plt.ylabel('Preço do Imóvel (Price)')
                 plt.grid(True)
                 plt.show()
             else:
                print("Não há dados válidos (não nulos) em 'Landsize' ou 'Price' para o gráfico de dispersão.")

        else:
            print("Colunas 'Landsize' ou 'Price' não encontradas para o gráfico de dispersão.")


        # Análise da influência de variáveis categóricas no Preço
        # Lista de colunas categóricas para analisar
        categorical_cols = ['Rooms','Bedroom2','Bahroom',"Car",'Landsize']

        print("\nAnálise da influência de variáveis categóricas no Preço:")

        for col in categorical_cols:
            if col in df.columns and 'Price' in df.columns:
                  # Criar um DataFrame temporário sem nulos em Price e na coluna categórica
                  plot_df_cat = df.dropna(subset=[col, 'Price']).copy()
                  if not plot_df_cat.empty:
                      print(f"\n--- Média de Preço por {col} ---")
                      # Calcular a média de preço por categoria
                      # Usar .dropna() para ignorar valores nulos na coluna categórica, se houver
                      # Também tratar nulos em 'Price' antes de agrupar
                      price_by_category = plot_df_cat.groupby(col)['Price'].mean().sort_values(ascending=False)
                      print(price_by_category)
                  else:
                      print(f"Não há dados válidos (não nulos) em '{col}' ou 'Price' para a análise por categoria.")

            else:
                  print(f"\nColuna '{col}' ou 'Price' não encontrada no DataFrame.")

    else:
        print("Coluna 'Price' não encontrada no DataFrame 'df'. Certifique-se de que a Célula 1 foi executada corretamente.")

else:
    print("DataFrame 'df' não encontrado ou está vazio. Certifique-se de que a Célula 1 foi executada sem erros.")




# Célula 3: Preparação dos Dados para o Modelo de Regressão Linear

# Esta célula contém a preparação dos dados para o Modelo de Regressão Linear.
# Execute esta célula *após* executar as Células 1 e 2 (acima)
# que carregam, pré-processam e analisam o DataFrame 'df'.

print("\nIniciando preparação para o Modelo de Regressão Linear (Etapa 3).")

# Certificar-se de que o DataFrame df existe e não está vazio antes de prosseguir
if 'df' in locals() and df is not None and not df.empty:

    # Começando a criar nosso modelo de ML
    # O primeiro passo vai ser separar entre a nossa variável que queremos prever (Y) e quais vão ser as colunas que vamos usar para essa previsão (X)

    # Garantir que 'Price' é numérico e sem nulos antes de separar X e Y
    if 'Price' in df.columns:
        # Garantir que Price é numérico e remover nulos, embora isso já tenha sido feito na análise descritiva,
        # é bom garantir para a modelagem.
        df_model = df.dropna(subset=['Price']).copy() # Criar uma cópia para evitar SettingWithCopyWarning e garantir nulos em Price removidos
        print("DataFrame pronto para modelagem (Price numérico e sem nulos).")


        Y = df_model.Price
        # Remover 'Price' de X
        X = df_model.drop('Price', axis=1)

        # Precisamos lidar com colunas não numéricas em X antes do train_test_split
        # Uma abordagem comum é usar one-hot encoding para variáveis categóricas
        # Identificar colunas categóricas restantes em X
        X_categorical = X.select_dtypes(include=['object']).columns

        # Aplicar one-hot encoding
        # dummy_na=False para não criar coluna para NaN, pois preencheremos nulos numéricos depois
        X = pd.get_dummies(X, columns=X_categorical, dummy_na=False)


        # Lidar com valores nulos restantes em X (por exemplo, em colunas numéricas como Landsize, BuildingArea, YearBuilt após conversão)
        # Uma estratégia simples é preencher com a média ou mediana
        # Para este exemplo, vamos preencher com a média
        # Verificar se há colunas numéricas para preencher antes de chamar .mean()
        numeric_cols_in_X = X.select_dtypes(include=['number']).columns
        if not numeric_cols_in_X.empty:
             X[numeric_cols_in_X] = X[numeric_cols_in_X].fillna(X[numeric_cols_in_X].mean())
             print("Valores nulos em colunas numéricas de X preenchidos com a média.")
        else:
             print("Não há colunas numéricas em X para preencher nulos.")


        from sklearn.model_selection import train_test_split

        # Separar os dados em treino e teste
        # Adicionar random_state para reprodutibilidade
        x_treino, x_teste, y_treino, y_teste = train_test_split(X, Y, test_size=0.2, random_state=42)

        print(f"\nShape dos dados de treino: X={x_treino.shape}, Y={y_treino.shape}")
        print(f"Shape dos dados de teste: X={x_teste.shape}, Y={y_teste.shape}")

        print("\nPreparação para modelagem concluída.")


    else:
        print("Coluna 'Price' não encontrada no DataFrame 'df'. Certifique-se de que as células anteriores foram executadas corretamente.")

else:
    print("DataFrame 'df' não encontrado ou está vazio. Certifique-se de que a Célula 1 foi executada sem erros.")



# Gráfico: Boxplot de Preço por Tipo de Imóvel (Type)

import matplotlib.pyplot as plt
import seaborn as sns

print("\nGerando Boxplot de Preço por Tipo de Imóvel.")

# Certificar-se de que o DataFrame df existe e não está vazio antes de prosseguir
if 'df' in locals() and df is not None and not df.empty:

    if 'Price' in df.columns and 'Type' in df.columns:
        # Garantir que Price é numérico e remover nulos para plotagem
        df['Price'] = pd.to_numeric(df['Price'], errors='coerce')
        # Garantir que Type é string e remover nulos
        df['Type'] = df['Type'].astype(str) # Garantir que é string para seaborn tratar como categoria
        plot_df = df.dropna(subset=['Price', 'Type']).copy() # Criar uma cópia sem nulos nas colunas relevantes

        if not plot_df.empty:
            plt.figure(figsize=(10, 6))
            # Usar sns.boxplot com a variável categórica no eixo x e a numérica no eixo y
            sns.boxplot(x='Type', y='Price', data=plot_df)
            plt.title('Distribuição do Preço por Tipo de Imóvel')
            plt.xlabel('Tipo de Imóvel')
            plt.ylabel('Preço')
            plt.grid(axis='y', linestyle='--') # Adicionar grade no eixo Y
            plt.show()
        else:
            print("Não há dados válidos (não nulos) em 'Price' ou 'Type' para o boxplot.")

    else:
        print("Colunas 'Price' ou 'Type' não encontradas no DataFrame 'df'.")

else:
    print("DataFrame 'df' não encontrado ou está vazio. Certifique-se de que a Célula 1 foi executada sem erros.")
